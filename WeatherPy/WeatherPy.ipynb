{
 "cells": [
  {
   "cell_type": "markdown",
   "metadata": {},
   "source": [
    "# WeatherPy\n",
    "\n",
    "---\n",
    "\n",
    "## Starter Code to Generate Random Geographic Coordinates and a List of Cities"
   ]
  },
  {
   "cell_type": "code",
   "execution_count": 30,
   "metadata": {},
   "outputs": [
    {
     "name": "stdout",
     "output_type": "stream",
     "text": [
      "Requirement already satisfied: citipy in c:\\users\\bpnag\\anaconda3\\anaconda\\lib\\site-packages (0.0.6)\n",
      "Requirement already satisfied: kdtree>=0.12 in c:\\users\\bpnag\\anaconda3\\anaconda\\lib\\site-packages (from citipy) (0.16)\n"
     ]
    }
   ],
   "source": [
    "!pip install citipy"
   ]
  },
  {
   "cell_type": "markdown",
   "metadata": {},
   "source": [
    "### Generate the Cities List by Using the `citipy` Library"
   ]
  },
  {
   "cell_type": "code",
   "execution_count": 1,
   "metadata": {
    "scrolled": true
   },
   "outputs": [],
   "source": [
    "# Dependencies and Setup\n",
    "import matplotlib.pyplot as plt\n",
    "import pandas as pd\n",
    "import numpy as np\n",
    "import requests\n",
    "import time\n",
    "from scipy.stats import linregress\n",
    "import json\n",
    "\n",
    "# Impor the OpenWeatherMap API key\n",
    "from api_keys import weather_api_key\n",
    "\n",
    "# Import citipy to determine the cities based on latitude and longitude\n",
    "from citipy import citipy"
   ]
  },
  {
   "cell_type": "code",
   "execution_count": 2,
   "metadata": {},
   "outputs": [
    {
     "name": "stdout",
     "output_type": "stream",
     "text": [
      "Number of cities in the list: 603\n"
     ]
    }
   ],
   "source": [
    "# Empty list for holding the latitude and longitude combinations\n",
    "lat_lngs = []\n",
    "\n",
    "# Empty list for holding the cities names\n",
    "cities = []\n",
    "\n",
    "# Range of latitudes and longitudes\n",
    "lat_range = (-90, 90)\n",
    "lng_range = (-180, 180)\n",
    "\n",
    "# Create a set of random lat and lng combinations\n",
    "lats = np.random.uniform(lat_range[0], lat_range[1], size=1500)\n",
    "lngs = np.random.uniform(lng_range[0], lng_range[1], size=1500)\n",
    "lat_lngs = zip(lats, lngs)\n",
    "\n",
    "# Identify nearest city for each lat, lng combination\n",
    "for lat_lng in lat_lngs:\n",
    "    city = citipy.nearest_city(lat_lng[0], lat_lng[1]).city_name\n",
    "    \n",
    "    # If the city is unique, then add it to a our cities list\n",
    "    if city not in cities:\n",
    "        cities.append(city)\n",
    "\n",
    "# Print the city count to confirm sufficient count\n",
    "print(f\"Number of cities in the list: {len(cities)}\")"
   ]
  },
  {
   "cell_type": "markdown",
   "metadata": {},
   "source": [
    "---"
   ]
  },
  {
   "cell_type": "markdown",
   "metadata": {},
   "source": [
    "## Requirement 1: Create Plots to Showcase the Relationship Between Weather Variables and Latitude\n",
    "\n",
    "### Use the OpenWeatherMap API to retrieve weather data from the cities list generated in the started code"
   ]
  },
  {
   "cell_type": "code",
   "execution_count": null,
   "metadata": {},
   "outputs": [
    {
     "name": "stdout",
     "output_type": "stream",
     "text": [
      "Beginning Data Retrieval\n",
      "---------------\n",
      "Processing Record 1 of Set 1 | nuuk\n",
      "Processing Record 2 of Set 1 | albany\n",
      "Processing Record 3 of Set 1 | georgetown\n",
      "Processing Record 4 of Set 1 | adamstown\n",
      "Processing Record 5 of Set 1 | tranovaho\n",
      "City not found. Skipping ...\n",
      "Data Retrieval Complete\n",
      "Processing Record 6 of Set 1 | grytviken\n",
      "Processing Record 7 of Set 1 | thompson\n",
      "Processing Record 8 of Set 1 | happy valley-goose bay\n",
      "Processing Record 9 of Set 1 | hawaiian paradise park\n",
      "Processing Record 10 of Set 1 | puerto san carlos\n",
      "City not found. Skipping ...\n",
      "Data Retrieval Complete\n",
      "Processing Record 11 of Set 1 | zheleznogorsk\n",
      "Processing Record 12 of Set 1 | puerto natales\n",
      "Processing Record 13 of Set 1 | flin flon\n",
      "Processing Record 14 of Set 1 | avarua\n",
      "Processing Record 15 of Set 1 | vila franca do campo\n",
      "Processing Record 16 of Set 1 | taiohae\n",
      "City not found. Skipping ...\n",
      "Data Retrieval Complete\n",
      "Processing Record 17 of Set 1 | ilulissat\n",
      "Processing Record 18 of Set 1 | stanley\n",
      "Processing Record 19 of Set 1 | tazovsky\n",
      "Processing Record 20 of Set 1 | ushuaia\n",
      "Processing Record 21 of Set 1 | longyearbyen\n",
      "Processing Record 22 of Set 1 | north bend\n",
      "Processing Record 23 of Set 1 | port-aux-francais\n",
      "Processing Record 24 of Set 1 | sitka\n",
      "Processing Record 25 of Set 1 | bengkulu\n",
      "Processing Record 26 of Set 1 | kodiak\n",
      "Processing Record 27 of Set 1 | papatowai\n",
      "Processing Record 28 of Set 1 | enewetak\n",
      "Processing Record 29 of Set 1 | alice springs\n",
      "Processing Record 30 of Set 1 | adh dhibiyah\n",
      "City not found. Skipping ...\n",
      "Data Retrieval Complete\n",
      "Processing Record 31 of Set 1 | blackmans bay\n",
      "Processing Record 32 of Set 1 | arraial do cabo\n",
      "Processing Record 33 of Set 1 | lebu\n",
      "Processing Record 34 of Set 1 | margaret river\n",
      "Processing Record 35 of Set 1 | malabar\n",
      "Processing Record 36 of Set 1 | jamestown\n",
      "Processing Record 37 of Set 1 | yellowknife\n",
      "Processing Record 38 of Set 1 | bredasdorp\n",
      "Processing Record 39 of Set 1 | whitehorse\n",
      "Processing Record 40 of Set 1 | novyy urgal\n",
      "Processing Record 41 of Set 1 | turabah\n",
      "Processing Record 42 of Set 1 | college\n",
      "Processing Record 43 of Set 1 | ribeira grande\n",
      "Processing Record 44 of Set 1 | lihue\n",
      "Processing Record 45 of Set 1 | edinburgh of the seven seas\n",
      "Processing Record 46 of Set 1 | nogliki\n",
      "Processing Record 47 of Set 1 | souillac\n",
      "Processing Record 48 of Set 1 | haiku-pauwela\n",
      "Processing Record 49 of Set 1 | alotau\n",
      "City not found. Skipping ...\n",
      "Data Retrieval Complete\n",
      "Processing Record 50 of Set 1 | mumbwa\n",
      "Processing Record 0 of Set 2 | selfoss\n",
      "Processing Record 1 of Set 2 | al miqdadiyah\n",
      "Processing Record 2 of Set 2 | west island\n",
      "Processing Record 3 of Set 2 | las khorey\n",
      "Processing Record 4 of Set 2 | minas de marcona\n",
      "Processing Record 5 of Set 2 | klyuchi\n",
      "Processing Record 6 of Set 2 | shetpe\n",
      "Processing Record 7 of Set 2 | kingscliff\n",
      "Processing Record 8 of Set 2 | zemio\n",
      "Processing Record 9 of Set 2 | polyarnyy\n",
      "Processing Record 10 of Set 2 | borcea\n",
      "Processing Record 11 of Set 2 | rikaze\n",
      "Processing Record 12 of Set 2 | bilibino\n",
      "Processing Record 13 of Set 2 | cambita garabitos\n",
      "Processing Record 14 of Set 2 | port mathurin\n",
      "Processing Record 15 of Set 2 | st. john's\n",
      "Processing Record 16 of Set 2 | bodo\n",
      "Processing Record 17 of Set 2 | susuman\n",
      "Processing Record 18 of Set 2 | punta arenas\n",
      "Processing Record 19 of Set 2 | iqaluit\n",
      "Processing Record 20 of Set 2 | hayma'\n",
      "City not found. Skipping ...\n",
      "Data Retrieval Complete\n",
      "Processing Record 21 of Set 2 | puerto ayora\n",
      "Processing Record 22 of Set 2 | rouissat\n",
      "Processing Record 23 of Set 2 | dudinka\n",
      "Processing Record 24 of Set 2 | high river\n",
      "Processing Record 25 of Set 2 | breckenridge\n",
      "Processing Record 26 of Set 2 | zhezqazghan\n",
      "Processing Record 27 of Set 2 | pran buri\n",
      "Processing Record 28 of Set 2 | songling\n",
      "Processing Record 29 of Set 2 | kataragama\n",
      "City not found. Skipping ...\n",
      "Data Retrieval Complete\n",
      "Processing Record 30 of Set 2 | saipan\n",
      "Processing Record 31 of Set 2 | uturoa\n",
      "Processing Record 32 of Set 2 | togur\n",
      "Processing Record 33 of Set 2 | bandar-e lengeh\n",
      "Processing Record 34 of Set 2 | meadow lake\n",
      "Processing Record 35 of Set 2 | tongchuanshi\n",
      "Processing Record 36 of Set 2 | mostaganem\n",
      "Processing Record 37 of Set 2 | hasaki\n",
      "Processing Record 38 of Set 2 | okhotsk\n",
      "Processing Record 39 of Set 2 | laguna\n",
      "Processing Record 40 of Set 2 | carutapera\n",
      "Processing Record 41 of Set 2 | anadyr\n",
      "Processing Record 42 of Set 2 | kailua-kona\n",
      "Processing Record 43 of Set 2 | ytyk-kyuyel'\n",
      "City not found. Skipping ...\n",
      "Data Retrieval Complete\n",
      "Processing Record 44 of Set 2 | constantia\n",
      "Processing Record 45 of Set 2 | dzhangala\n",
      "Processing Record 46 of Set 2 | vadso\n",
      "Processing Record 47 of Set 2 | hancheng\n",
      "Processing Record 48 of Set 2 | al kharijah\n",
      "Processing Record 49 of Set 2 | waitangi\n",
      "Processing Record 0 of Set 3 | san julian\n",
      "Processing Record 1 of Set 3 | key west\n",
      "Processing Record 2 of Set 3 | iskateley\n",
      "Processing Record 3 of Set 3 | jianshui\n",
      "Processing Record 4 of Set 3 | hermanus\n",
      "Processing Record 5 of Set 3 | shangri-la\n",
      "City not found. Skipping ...\n",
      "Data Retrieval Complete\n",
      "Processing Record 6 of Set 3 | bethel\n",
      "Processing Record 7 of Set 3 | kourou\n",
      "Processing Record 8 of Set 3 | merizo village\n",
      "Processing Record 9 of Set 3 | chonchi\n",
      "Processing Record 10 of Set 3 | queenstown\n",
      "Processing Record 11 of Set 3 | ulety\n",
      "Processing Record 12 of Set 3 | cargados carajos\n",
      "City not found. Skipping ...\n",
      "Data Retrieval Complete\n",
      "Processing Record 13 of Set 3 | peniche\n",
      "Processing Record 14 of Set 3 | sai buri\n",
      "Processing Record 15 of Set 3 | massawa\n",
      "Processing Record 16 of Set 3 | flying fish cove\n",
      "Processing Record 17 of Set 3 | utrik\n",
      "Processing Record 18 of Set 3 | atherton\n",
      "Processing Record 19 of Set 3 | aras-asan\n",
      "Processing Record 20 of Set 3 | weno\n",
      "Processing Record 21 of Set 3 | badger\n",
      "Processing Record 22 of Set 3 | mabopane\n",
      "Processing Record 23 of Set 3 | olonkinbyen\n",
      "Processing Record 24 of Set 3 | bandrele\n",
      "Processing Record 25 of Set 3 | nalut\n",
      "Processing Record 26 of Set 3 | petropavlovsk-kamchatsky\n",
      "Processing Record 27 of Set 3 | ta`u\n",
      "Processing Record 28 of Set 3 | port lincoln\n",
      "Processing Record 29 of Set 3 | gamba\n",
      "Processing Record 30 of Set 3 | opuwo\n",
      "Processing Record 31 of Set 3 | geraldton\n",
      "Processing Record 32 of Set 3 | meadow lakes\n",
      "Processing Record 33 of Set 3 | puerto gaitan\n",
      "Processing Record 34 of Set 3 | andergrove\n",
      "Processing Record 35 of Set 3 | bandar lampung\n",
      "Processing Record 36 of Set 3 | zakamensk\n",
      "Processing Record 37 of Set 3 | sao felix do xingu\n",
      "Processing Record 38 of Set 3 | xining\n",
      "Processing Record 39 of Set 3 | fale old settlement\n",
      "Processing Record 40 of Set 3 | northam\n",
      "Processing Record 41 of Set 3 | mil'kovo\n",
      "Processing Record 42 of Set 3 | vanimo\n",
      "Processing Record 43 of Set 3 | mezhdurechenskiy\n",
      "Processing Record 44 of Set 3 | yelizovo\n",
      "Processing Record 45 of Set 3 | east london\n",
      "Processing Record 46 of Set 3 | taza\n",
      "Processing Record 47 of Set 3 | benguela\n",
      "Processing Record 48 of Set 3 | baiquan\n",
      "Processing Record 49 of Set 3 | vilyuchinsk\n",
      "Processing Record 0 of Set 4 | ashland\n",
      "Processing Record 1 of Set 4 | nova sintra\n",
      "Processing Record 2 of Set 4 | afaahiti\n",
      "Processing Record 3 of Set 4 | vorgashor\n",
      "Processing Record 4 of Set 4 | novaya lyalya\n",
      "Processing Record 5 of Set 4 | coquimbo\n",
      "Processing Record 6 of Set 4 | udachny\n",
      "Processing Record 7 of Set 4 | tiksi\n",
      "Processing Record 8 of Set 4 | talnakh\n",
      "Processing Record 9 of Set 4 | dryden\n",
      "Processing Record 10 of Set 4 | atafu village\n",
      "Processing Record 11 of Set 4 | labrador city\n",
      "Processing Record 12 of Set 4 | gobabis\n",
      "Processing Record 13 of Set 4 | jiuquan\n",
      "Processing Record 14 of Set 4 | tariba\n",
      "Processing Record 15 of Set 4 | puerto armuelles\n",
      "Processing Record 16 of Set 4 | kingston\n",
      "Processing Record 17 of Set 4 | pandan\n",
      "Processing Record 18 of Set 4 | fauske\n",
      "Processing Record 19 of Set 4 | chinde\n",
      "Processing Record 20 of Set 4 | santa rosa de osos\n",
      "Processing Record 21 of Set 4 | huangshan\n",
      "Processing Record 22 of Set 4 | atar\n",
      "Processing Record 23 of Set 4 | itirucu\n",
      "Processing Record 24 of Set 4 | port elizabeth\n",
      "Processing Record 25 of Set 4 | mirpur sakro\n",
      "Processing Record 26 of Set 4 | sijunjung\n",
      "Processing Record 27 of Set 4 | nizhniy kuranakh\n",
      "Processing Record 28 of Set 4 | amga\n",
      "Processing Record 29 of Set 4 | tadine\n",
      "Processing Record 30 of Set 4 | yangchun\n"
     ]
    },
    {
     "name": "stdout",
     "output_type": "stream",
     "text": [
      "Processing Record 31 of Set 4 | richards bay\n",
      "Processing Record 32 of Set 4 | qaqortoq\n",
      "Processing Record 33 of Set 4 | maragogi\n",
      "Processing Record 34 of Set 4 | kiunga\n",
      "Processing Record 35 of Set 4 | tuy hoa\n",
      "Processing Record 36 of Set 4 | la'ie\n",
      "Processing Record 37 of Set 4 | pariaman\n",
      "Processing Record 38 of Set 4 | castillos\n",
      "Processing Record 39 of Set 4 | cabedelo\n",
      "Processing Record 40 of Set 4 | jiwani\n",
      "Processing Record 41 of Set 4 | eten\n",
      "Processing Record 42 of Set 4 | homer\n",
      "Processing Record 43 of Set 4 | kavaratti\n",
      "Processing Record 44 of Set 4 | gizo\n",
      "Processing Record 45 of Set 4 | murray bridge\n",
      "Processing Record 46 of Set 4 | sisimiut\n",
      "Processing Record 47 of Set 4 | vershino-darasunskiy\n",
      "Processing Record 48 of Set 4 | malango\n",
      "Processing Record 49 of Set 4 | colchani\n",
      "Processing Record 0 of Set 5 | saldanha\n",
      "Processing Record 1 of Set 5 | gallivare\n",
      "City not found. Skipping ...\n",
      "Data Retrieval Complete\n",
      "Processing Record 2 of Set 5 | carlsbad\n",
      "Processing Record 3 of Set 5 | chepelare\n",
      "Processing Record 4 of Set 5 | nar'yan-mar\n",
      "Processing Record 5 of Set 5 | hithadhoo\n",
      "Processing Record 6 of Set 5 | sidney\n",
      "Processing Record 7 of Set 5 | mahina\n",
      "Processing Record 8 of Set 5 | isafjordur\n",
      "Processing Record 9 of Set 5 | invercargill\n",
      "Processing Record 10 of Set 5 | nizhniy ingash\n",
      "Processing Record 11 of Set 5 | santiago de cao\n",
      "Processing Record 12 of Set 5 | nemuro\n",
      "Processing Record 13 of Set 5 | crucecita\n",
      "Processing Record 14 of Set 5 | el hadjira\n",
      "Processing Record 15 of Set 5 | mvomero\n",
      "Processing Record 16 of Set 5 | tangalle\n",
      "Processing Record 17 of Set 5 | fisterra\n",
      "Processing Record 18 of Set 5 | palmer\n",
      "Processing Record 19 of Set 5 | codrington\n",
      "Processing Record 20 of Set 5 | fort st. john\n",
      "Processing Record 21 of Set 5 | lazaro cardenas\n",
      "Processing Record 22 of Set 5 | el calafate\n",
      "Processing Record 23 of Set 5 | tolanaro\n",
      "Processing Record 24 of Set 5 | egilsstadir\n",
      "Processing Record 25 of Set 5 | qujing\n",
      "Processing Record 26 of Set 5 | tshikapa\n",
      "Processing Record 27 of Set 5 | changping\n",
      "Processing Record 28 of Set 5 | jinhua\n",
      "Processing Record 29 of Set 5 | luderitz\n",
      "Processing Record 30 of Set 5 | papao\n",
      "Processing Record 31 of Set 5 | tanjung selor\n",
      "City not found. Skipping ...\n",
      "Data Retrieval Complete\n",
      "Processing Record 32 of Set 5 | sao francisco\n",
      "Processing Record 33 of Set 5 | ivdel'\n",
      "Processing Record 34 of Set 5 | ponta delgada\n",
      "Processing Record 35 of Set 5 | geneina\n",
      "Processing Record 36 of Set 5 | manakara\n",
      "Processing Record 37 of Set 5 | cuyo\n",
      "Processing Record 38 of Set 5 | vila velha\n",
      "Processing Record 39 of Set 5 | kasongo\n",
      "Processing Record 40 of Set 5 | swakopmund\n",
      "Processing Record 41 of Set 5 | labytnangi\n",
      "Processing Record 42 of Set 5 | south hedland\n",
      "Processing Record 43 of Set 5 | kirakira\n",
      "Processing Record 44 of Set 5 | reggane\n",
      "Processing Record 45 of Set 5 | torgau\n",
      "Processing Record 46 of Set 5 | kristiansund\n",
      "Processing Record 47 of Set 5 | itoman\n",
      "Processing Record 48 of Set 5 | howard springs\n",
      "Processing Record 49 of Set 5 | ludvika\n",
      "Processing Record 0 of Set 6 | svetlyy\n",
      "Processing Record 1 of Set 6 | hadibu\n",
      "Processing Record 2 of Set 6 | praia da vitoria\n",
      "Processing Record 3 of Set 6 | port said\n",
      "Processing Record 4 of Set 6 | lesnoy\n",
      "Processing Record 5 of Set 6 | kibondo\n",
      "Processing Record 6 of Set 6 | altay\n",
      "Processing Record 7 of Set 6 | ust-nera\n",
      "Processing Record 8 of Set 6 | cox's bazar\n",
      "Processing Record 9 of Set 6 | devinuwara\n",
      "City not found. Skipping ...\n",
      "Data Retrieval Complete\n",
      "Processing Record 10 of Set 6 | sungai penuh\n",
      "Processing Record 11 of Set 6 | kabo\n",
      "Processing Record 12 of Set 6 | ofunato\n",
      "Processing Record 13 of Set 6 | inari\n",
      "Processing Record 14 of Set 6 | ca mau\n",
      "Processing Record 15 of Set 6 | juan griego\n",
      "Processing Record 16 of Set 6 | colonia menno\n",
      "Processing Record 17 of Set 6 | tual\n",
      "Processing Record 18 of Set 6 | harstad\n",
      "Processing Record 19 of Set 6 | tughyl\n",
      "Processing Record 20 of Set 6 | nichinan\n",
      "Processing Record 21 of Set 6 | daru\n",
      "Processing Record 22 of Set 6 | katabu\n",
      "Processing Record 23 of Set 6 | contamana\n",
      "Processing Record 24 of Set 6 | navas de san juan\n",
      "Processing Record 25 of Set 6 | langarud\n",
      "Processing Record 26 of Set 6 | aykhal\n",
      "Processing Record 27 of Set 6 | chicxulub puerto\n",
      "City not found. Skipping ...\n",
      "Data Retrieval Complete\n",
      "Processing Record 28 of Set 6 | rio grande\n",
      "Processing Record 29 of Set 6 | ar ruways\n",
      "Processing Record 30 of Set 6 | nouadhibou\n",
      "Processing Record 31 of Set 6 | kaga bandoro\n",
      "Processing Record 32 of Set 6 | kulachi\n",
      "Processing Record 33 of Set 6 | haimen\n",
      "Processing Record 34 of Set 6 | antsiranana\n",
      "Processing Record 35 of Set 6 | nagqu\n",
      "Processing Record 36 of Set 6 | kaoma\n",
      "Processing Record 37 of Set 6 | kiruna\n",
      "Processing Record 38 of Set 6 | belozersk\n",
      "Processing Record 39 of Set 6 | tan-tan\n",
      "Processing Record 40 of Set 6 | beyneu\n",
      "Processing Record 41 of Set 6 | new norfolk\n",
      "Processing Record 42 of Set 6 | palikir - national government center\n",
      "Processing Record 43 of Set 6 | porto novo\n",
      "Processing Record 44 of Set 6 | hobyo\n",
      "Processing Record 45 of Set 6 | cabo san lucas\n",
      "Processing Record 46 of Set 6 | bataipora\n",
      "Processing Record 47 of Set 6 | bousso\n",
      "Processing Record 48 of Set 6 | magadan\n",
      "Processing Record 49 of Set 6 | aasiaat\n",
      "Processing Record 0 of Set 7 | lichinga\n",
      "Processing Record 1 of Set 7 | minot\n",
      "Processing Record 2 of Set 7 | caleta de carquin\n",
      "Processing Record 3 of Set 7 | south bay\n",
      "Processing Record 4 of Set 7 | vrable\n",
      "Processing Record 5 of Set 7 | emerald\n",
      "Processing Record 6 of Set 7 | chinchilla\n",
      "Processing Record 7 of Set 7 | newman\n",
      "Processing Record 8 of Set 7 | ugoofaaru\n",
      "Processing Record 9 of Set 7 | norrtalje\n",
      "Processing Record 10 of Set 7 | leava\n",
      "Processing Record 11 of Set 7 | belel\n",
      "Processing Record 12 of Set 7 | ranot\n",
      "Processing Record 13 of Set 7 | abraham's bay\n",
      "City not found. Skipping ...\n",
      "Data Retrieval Complete\n",
      "Processing Record 14 of Set 7 | tosontsengel\n",
      "Processing Record 15 of Set 7 | korla\n",
      "Processing Record 16 of Set 7 | dunedin\n",
      "Processing Record 17 of Set 7 | chui\n",
      "Processing Record 18 of Set 7 | pangody\n",
      "Processing Record 19 of Set 7 | calingasta\n",
      "Processing Record 20 of Set 7 | peniscola\n"
     ]
    }
   ],
   "source": [
    "# Starting URL for Weather Map API call\n",
    "url = f\"http://api.openweathermap.org/data/2.5/weather?units=Imperial&APPID={weather_api_key}\"\n",
    "# Print (url)\n",
    "\n",
    "\n",
    "# List of City Data\n",
    "city_data = []\n",
    "\n",
    "# Print to logger\n",
    "print(\"Beginning Data Retrieval\")\n",
    "print (\"-\" * 15)\n",
    "\n",
    "\n",
    "# Create counters\n",
    "record_count = 1\n",
    "set_count = 1\n",
    "# Loop through all the cities in list\n",
    "for index, city in enumerate(cities):\n",
    "    # Group cities in sets of 50 for loggin purpose\n",
    "    if (index % 50 == 0 and index >= 50):\n",
    "        set_count += 1\n",
    "        record_count = 0\n",
    "    # Create endpoint URL with each city\n",
    "    city_url = url + \"&q=\" + city\n",
    "\n",
    "    \n",
    "    # Log the URL and set number\n",
    "    print(f\"Processing Record {record_count} of Set {set_count} | {city}\")\n",
    "    \n",
    "    record_count += 1\n",
    "    \n",
    "    # Run an API request for each of the cities\n",
    "    try:\n",
    "        \n",
    "        # Parse the JSON and retrieve data\n",
    "        city_weather = requests.get(city_url).json()\n",
    "        \n",
    "        \n",
    "        # Extract out max temp humidity and cloudiness\n",
    "        city_lat = city_weather[\"coord\"][\"lat\"]\n",
    "        city_lng = city_weather[\"coord\"][\"lon\"]\n",
    "        city_max_temp = city_weather[\"main\"][\"temp_max\"]\n",
    "        city_humidity = city_weather[\"main\"][\"humidity\"]\n",
    "        city_clouds = city_weather[\"clouds\"][\"all\"]\n",
    "        city_wind = city_weather[\"wind\"][\"speed\"]\n",
    "        city_country = city_weather[\"sys\"][\"country\"]\n",
    "        city_date = city_weather[\"dt\"]\n",
    "        \n",
    "        # Append the city info into the city data list\n",
    "        city_data.append({\n",
    "            \"City\" :city,\n",
    "            \"Lat\" :city_lat,\n",
    "            \"Lng\" :city_lng,\n",
    "            \"Max Temp\" :city_max_temp,\n",
    "            \"Humidity\" :city_humidity,\n",
    "            \"Cloudiness\" :city_clouds,\n",
    "            \"Windspeed\" :city_wind,\n",
    "            \"Country\" :city_country,\n",
    "            \"Date\" :city_date  \n",
    "        })\n",
    "    except:\n",
    "        print(\"City not found. Skipping ...\")\n",
    "        pass\n",
    "    # Indicate that data loading is complete\n",
    "        \n",
    "        print(\"Data Retrieval Complete\")\n",
    "       \n",
    "        "
   ]
  },
  {
   "cell_type": "code",
   "execution_count": null,
   "metadata": {},
   "outputs": [],
   "source": [
    "# Convert the cities weather data into a Pandas DataFrame\n",
    "city_data_df = pd.DataFrame(city_data)\n",
    " \n",
    "\n",
    "\n",
    "# Show Record Count\n",
    "city_data_df.count()"
   ]
  },
  {
   "cell_type": "code",
   "execution_count": null,
   "metadata": {},
   "outputs": [],
   "source": [
    "# Display sample data\n",
    "city_data_df.head()"
   ]
  },
  {
   "cell_type": "code",
   "execution_count": null,
   "metadata": {},
   "outputs": [],
   "source": [
    "# Export the City_Data into a csv\n",
    "city_data_df.to_csv(\"output_data/cities.csv\", index_label=\"City_ID\")"
   ]
  },
  {
   "cell_type": "code",
   "execution_count": null,
   "metadata": {},
   "outputs": [],
   "source": [
    "# Read saved data\n",
    "city_data_df = pd.read_csv(\"output_data/cities.csv\", index_col=\"City_ID\")\n",
    "\n",
    "# Display sample data\n",
    "city_data_df.head()"
   ]
  },
  {
   "cell_type": "markdown",
   "metadata": {},
   "source": [
    "### Create the Scatter Plots Requested\n",
    "\n",
    "#### Latitude Vs. Temperature"
   ]
  },
  {
   "cell_type": "code",
   "execution_count": null,
   "metadata": {
    "tags": []
   },
   "outputs": [],
   "source": [
    "# Build scatter plot for latitude vs. temperature\n",
    "plt.scatter(city_data_df[\"Max Temp\"], city_data_df[\"Lat\"])\n",
    "\n",
    "# Incorporate the other graph properties\n",
    "plt.xlabel(\"Latitude\")\n",
    "plt.ylabel(\"Max Temperature\")\n",
    "\n",
    "# Save the figure\n",
    "plt.savefig(\"output_data/Fig1.png\")\n",
    "\n",
    "# Show plot\n",
    "plt.show()"
   ]
  },
  {
   "cell_type": "markdown",
   "metadata": {},
   "source": [
    "#### Latitude Vs. Humidity"
   ]
  },
  {
   "cell_type": "code",
   "execution_count": null,
   "metadata": {},
   "outputs": [],
   "source": [
    "# Build the scatter plots for latitude vs. humidity\n",
    "plt.scatter(city_data_df[\"Humidity\"], city_data_df[\"Lat\"])\n",
    "\n",
    "# Incorporate the other graph properties\n",
    "plt.xlabel(\"Latitude\")\n",
    "plt.ylabel(\"Humidity\")\n",
    "\n",
    "# Save the figure\n",
    "plt.savefig(\"output_data/Fig2.png\")\n",
    "\n",
    "# Show plot\n",
    "plt.show()"
   ]
  },
  {
   "cell_type": "markdown",
   "metadata": {},
   "source": [
    "#### Latitude Vs. Cloudiness"
   ]
  },
  {
   "cell_type": "code",
   "execution_count": null,
   "metadata": {},
   "outputs": [],
   "source": [
    "# Build the scatter plots for latitude vs. cloudiness\n",
    "plt.scatter(city_data_df[\"Cloudiness\"], city_data_df[\"Lat\"])\n",
    "\n",
    "# Incorporate the other graph properties\n",
    "plt.xlabel(\"Latitude\")\n",
    "plt.ylabel(\"Cloudiness\")\n",
    "\n",
    "# Save the figure\n",
    "plt.savefig(\"output_data/Fig3.png\")\n",
    "\n",
    "# Show plot\n",
    "plt.show()"
   ]
  },
  {
   "cell_type": "markdown",
   "metadata": {},
   "source": [
    "#### Latitude vs. Wind Speed Plot"
   ]
  },
  {
   "cell_type": "code",
   "execution_count": 32,
   "metadata": {},
   "outputs": [
    {
     "data": {
      "image/png": "[encoded data removed]",
      "text/plain": [
       "<Figure size 640x480 with 1 Axes>"
      ]
     },
     "metadata": {},
     "output_type": "display_data"
    }
   ],
   "source": [
    "# Build the scatter plots for latitude vs. wind speed\n",
    "plt.scatter(city_data_df[\"Windspeed\"], city_data_df[\"Lat\"])\n",
    "\n",
    "# Incorporate the other graph properties\n",
    "plt.xlabel(\"Latitude\")\n",
    "plt.ylabel(\"Windspeed\")\n",
    "\n",
    "# Save the figure\n",
    "plt.savefig(\"output_data/Fig4.png\")\n",
    "\n",
    "# Show plot\n",
    "plt.show()"
   ]
  },
  {
   "cell_type": "markdown",
   "metadata": {},
   "source": [
    "---\n",
    "\n",
    "## Requirement 2: Compute Linear Regression for Each Relationship\n"
   ]
  },
  {
   "cell_type": "code",
   "execution_count": 1,
   "metadata": {},
   "outputs": [],
   "source": [
    "# Define a function to create Linear Regression plots\n",
    "    linear_regress(x, y, eqn_coordinates):\n",
    "    r = st.pearsonr(x, y)\n",
    "    print(f\"The r-value is: {r[0]}\")\n",
    "    (slope, intercept, rvalue, pvalue, stderr) = linregress(x, y)\n",
    "    regress_values = x * slope + intercept\n",
    "    line_eq = f\"y ={slope: .2f}x +{intercept: .2f}\"\n",
    "    plt.plot(x, regress_values, \"r-\")\n",
    "    plt.annotate(line_eq, eqn_coordinates, fontsize=12, color=\"red\")\n",
    "    plt.scatter(x, y)\n",
    "    plt.xlabel(f\"{x.name}\")\n",
    "    plt.ylabel(f\"{y.name}\")"
   ]
  },
  {
   "cell_type": "code",
   "execution_count": null,
   "metadata": {},
   "outputs": [],
   "source": [
    "# Create a DataFrame with the Northern Hemisphere data (Latitude >= 0)\n",
    "northern_hemi_df = city_data_df.loc[city_data_df[\"Lat\"] >= 0]\n",
    "\n",
    "# Display sample data\n",
    "northern_hemi_df.head()"
   ]
  },
  {
   "cell_type": "code",
   "execution_count": null,
   "metadata": {},
   "outputs": [],
   "source": [
    "# Create a DataFrame with the Southern Hemisphere data (Latitude < 0)\n",
    "southern_hemi_df = city_data_df.loc[city_data_df[\"Lat\"] < 0]\n",
    "\n",
    "# Display sample data\n",
    "southern_hemi_df.head()"
   ]
  },
  {
   "cell_type": "markdown",
   "metadata": {},
   "source": [
    "###  Temperature vs. Latitude Linear Regression Plot"
   ]
  },
  {
   "cell_type": "code",
   "execution_count": null,
   "metadata": {},
   "outputs": [],
   "source": [
    "# Linear regression on Northern Hemisphere\n",
    "linear_regress(northern_hemi_df[\"Lat\"].rename(\"Latitude\"), northern_hemi_df[\"Max Temp\"], (10, -30))"
   ]
  },
  {
   "cell_type": "code",
   "execution_count": null,
   "metadata": {},
   "outputs": [],
   "source": [
    "# Create a DataFrame with the Southern Hemisphere data (Latitude < 0)\n",
    "southern_hemi_df = city_data_df.loc[city_data_df[\"Lat\"] < 0]\n",
    "\n",
    "# Display sample data\n",
    "southern_hemi_df.head()"
   ]
  },
  {
   "cell_type": "markdown",
   "metadata": {},
   "source": [
    "**Discussion about the linear relationship:** YOUR RESPONSE HERE"
   ]
  },
  {
   "cell_type": "markdown",
   "metadata": {},
   "source": [
    "### Humidity vs. Latitude Linear Regression Plot"
   ]
  },
  {
   "cell_type": "code",
   "execution_count": null,
   "metadata": {},
   "outputs": [],
   "source": [
    "linear_regress(northern_hemi_df[\"Lat\"].rename(\"Latitude\"), northern_hemi_df[\"Max Temp\"], (10, -30))"
   ]
  },
  {
   "cell_type": "code",
   "execution_count": null,
   "metadata": {},
   "outputs": [],
   "source": [
    "linear_regress(southern_hemi_df[\"Lat\"].rename(\"Latitude\"), southern_hemi_df[\"Max Temp\"], (-30, 8))"
   ]
  },
  {
   "cell_type": "markdown",
   "metadata": {},
   "source": [
    "**Discussion about the linear relationship:** YOUR RESPONSE HERE"
   ]
  },
  {
   "cell_type": "markdown",
   "metadata": {},
   "source": [
    "### Cloudiness vs. Latitude Linear Regression Plot"
   ]
  },
  {
   "cell_type": "code",
   "execution_count": null,
   "metadata": {},
   "outputs": [],
   "source": [
    "# Northern Hemisphere\n",
    "linear_regress(northern_hemi_df[\"Lat\"].rename(\"Latitude\"), northern_hemi_df[\"Cloudiness\"], (42, 50))"
   ]
  },
  {
   "cell_type": "code",
   "execution_count": null,
   "metadata": {},
   "outputs": [],
   "source": [
    "# Southern Hemisphere\n",
    "linear_regress(southern_hemi_df[\"Lat\"].rename(\"Latitude\"), southern_hemi_df[\"Cloudiness\"], (-50, 50))"
   ]
  },
  {
   "cell_type": "markdown",
   "metadata": {},
   "source": [
    "**Discussion about the linear relationship:** YOUR RESPONSE HERE"
   ]
  },
  {
   "cell_type": "markdown",
   "metadata": {},
   "source": [
    "### Wind Speed vs. Latitude Linear Regression Plot"
   ]
  },
  {
   "cell_type": "code",
   "execution_count": null,
   "metadata": {},
   "outputs": [],
   "source": [
    "linear_regress(northern_hemi_df[\"Lat\"].rename(\"Latitude\"), northern_hemi_df[\"Wind Speed\"], (10, 12))"
   ]
  },
  {
   "cell_type": "code",
   "execution_count": null,
   "metadata": {},
   "outputs": [],
   "source": [
    "linear_regress(southern_hemi_df[\"Lat\"].rename(\"Latitude\"), southern_hemi_df[\"Wind Speed\"], (-50, 9))"
   ]
  },
  {
   "cell_type": "markdown",
   "metadata": {},
   "source": [
    "**Discussion about the linear relationship:** YOUR RESPONSE HERE"
   ]
  },
  {
   "cell_type": "code",
   "execution_count": null,
   "metadata": {},
   "outputs": [],
   "source": []
  }
 ],
 "metadata": {
  "anaconda-cloud": {},
  "kernel_info": {
   "name": "python3"
  },
  "kernelspec": {
   "display_name": "Python 3 (ipykernel)",
   "language": "python",
   "name": "python3"
  },
  "language_info": {
   "codemirror_mode": {
    "name": "ipython",
    "version": 3
   },
   "file_extension": ".py",
   "mimetype": "text/x-python",
   "name": "python",
   "nbconvert_exporter": "python",
   "pygments_lexer": "ipython3",
   "version": "3.11.5"
  },
  "latex_envs": {
   "LaTeX_envs_menu_present": true,
   "autoclose": false,
   "autocomplete": true,
   "bibliofile": "biblio.bib",
   "cite_by": "apalike",
   "current_citInitial": 1,
   "eqLabelWithNumbers": true,
   "eqNumInitial": 1,
   "hotkeys": {
    "equation": "Ctrl-E",
    "itemize": "Ctrl-I"
   },
   "labels_anchors": false,
   "latex_user_defs": false,
   "report_style_numbering": false,
   "user_envs_cfg": false
  },
  "nteract": {
   "version": "0.12.3"
  }
 },
 "nbformat": 4,
 "nbformat_minor": 4
}
